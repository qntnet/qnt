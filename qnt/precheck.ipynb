{
 "cells": [
  {
   "cell_type": "markdown",
   "metadata": {},
   "source": [
    "# Precheck"
   ]
  },
  {
   "cell_type": "markdown",
   "metadata": {},
   "source": [
    "This book gives you an opportunity to check your strategy before submitting it. \n",
    "It is developed in a way which can catch most errors in your strategies.\n",
    "Also, it checks general filters for submissions.\n",
    "Pay attention to the red outputs."
   ]
  },
  {
   "cell_type": "code",
   "execution_count": null,
   "metadata": {},
   "outputs": [],
   "source": [
    "from qnt.precheck import *\n",
    "\n",
    "# set the competition type here:\n",
    "data_type = 'stocks' # 'stocks', 'futures', 'crypto'"
   ]
  },
  {
   "cell_type": "markdown",
   "metadata": {},
   "source": [
    "The 1st step runs `init.ipynb` in the test environment in order to install additional dependencies."
   ]
  },
  {
   "cell_type": "code",
   "execution_count": null,
   "metadata": {},
   "outputs": [],
   "source": [
    "run_init()"
   ]
  },
  {
   "cell_type": "markdown",
   "metadata": {},
   "source": [
    "If you want to reset your environment in order to properly test the installation of external dependencies,\n",
    "you can run the command below. \n",
    "This command will shutdown the jupyter instance and remove your current environment. \n",
    "After that, you have to reopen this jupyter instance from your personal space.\n",
    "The system will start a new instance a create a new conda environment.\n",
    "You won't loose your code. It will be deployed in the new instance."
   ]
  },
  {
   "cell_type": "code",
   "execution_count": null,
   "metadata": {},
   "outputs": [],
   "source": [
    "# ! kill -9 -1"
   ]
  },
  {
   "cell_type": "markdown",
   "metadata": {},
   "source": [
    "The 2nd step runs your strategy multiple times cutting the data tail. It is similar to the step-by-step calculation.\n",
    "\n",
    "By default, it runs 3 passes. It is enough to catch most errors. If you want to get more relevant results, you need to increase the number of passes. When you submit your strategy, the system runs about 1000 passes, which requires a very long time.\n",
    "\n",
    "Also, this step performs some intermediate checks of the outputs.\n",
    "\n",
    "When passes finish, you can find results in the folder `precheck_results`."
   ]
  },
  {
   "cell_type": "code",
   "execution_count": null,
   "metadata": {
    "scrolled": true
   },
   "outputs": [],
   "source": [
    "evaluate_passes(passes=3, data_type=data_type)\n",
    "\n",
    "# you can also set the the specific dates:\n",
    "# evaluate_passes(dates=['2016-09-30', '2018-07-13', '2020-04-23'])"
   ]
  },
  {
   "cell_type": "markdown",
   "metadata": {},
   "source": [
    "The 3rd step assembles the output from the outputs calculated in the previous step."
   ]
  },
  {
   "cell_type": "code",
   "execution_count": null,
   "metadata": {},
   "outputs": [],
   "source": [
    "output = assemble_output()"
   ]
  },
  {
   "cell_type": "markdown",
   "metadata": {},
   "source": [
    "And the final step checks the major filters: points count, sharpe ratio and correlation."
   ]
  },
  {
   "cell_type": "code",
   "execution_count": null,
   "metadata": {},
   "outputs": [],
   "source": [
    "check_output(output, data_type=data_type)"
   ]
  }
 ],
 "metadata": {
  "@webio": {
   "lastCommId": null,
   "lastKernelId": null
  },
  "kernelspec": {
   "display_name": "Python 3",
   "language": "python",
   "name": "python3"
  },
  "language_info": {
   "codemirror_mode": {
    "name": "ipython",
    "version": 3
   },
   "file_extension": ".py",
   "mimetype": "text/x-python",
   "name": "python",
   "nbconvert_exporter": "python",
   "pygments_lexer": "ipython3",
   "version": "3.7.6"
  }
 },
 "nbformat": 4,
 "nbformat_minor": 4
}
